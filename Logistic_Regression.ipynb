{
  "nbformat": 4,
  "nbformat_minor": 0,
  "metadata": {
    "colab": {
      "provenance": []
    },
    "kernelspec": {
      "name": "python3",
      "display_name": "Python 3"
    },
    "language_info": {
      "name": "python"
    }
  },
  "cells": [
    {
      "cell_type": "code",
      "source": [
        "import numpy as np\n",
        "import pandas as pd\n",
        "import matplotlib.pyplot as plt\n",
        "from sklearn.linear_model import LogisticRegression"
      ],
      "metadata": {
        "id": "6ONSkjQMothS"
      },
      "execution_count": 106,
      "outputs": []
    },
    {
      "cell_type": "code",
      "source": [
        "np.random.seed(0) #set random\n",
        "# Create DataFrame\n",
        "data = pd.DataFrame()\n",
        "data['Feature_1'] = np.random.random(40) * 2 + 1\n",
        "data['Feature_2'] = np.random.random(40) * 3 + 1\n",
        "data['y'] = np.random.choice([0, 1], size=40)\n",
        "data.head(2)"
      ],
      "metadata": {
        "id": "-RQD5yxbyu5a",
        "colab": {
          "base_uri": "https://localhost:8080/",
          "height": 112
        },
        "outputId": "359b06de-cbf3-4780-ffe5-e2aae07eec4a"
      },
      "execution_count": 107,
      "outputs": [
        {
          "output_type": "execute_result",
          "data": {
            "text/plain": [
              "   Feature_1  Feature_2  y\n",
              "0   2.097627   2.078524  0\n",
              "1   2.430379   2.311096  0"
            ],
            "text/html": [
              "\n",
              "  <div id=\"df-43d1f570-6c05-4f33-bf74-5cca4cce9004\" class=\"colab-df-container\">\n",
              "    <div>\n",
              "<style scoped>\n",
              "    .dataframe tbody tr th:only-of-type {\n",
              "        vertical-align: middle;\n",
              "    }\n",
              "\n",
              "    .dataframe tbody tr th {\n",
              "        vertical-align: top;\n",
              "    }\n",
              "\n",
              "    .dataframe thead th {\n",
              "        text-align: right;\n",
              "    }\n",
              "</style>\n",
              "<table border=\"1\" class=\"dataframe\">\n",
              "  <thead>\n",
              "    <tr style=\"text-align: right;\">\n",
              "      <th></th>\n",
              "      <th>Feature_1</th>\n",
              "      <th>Feature_2</th>\n",
              "      <th>y</th>\n",
              "    </tr>\n",
              "  </thead>\n",
              "  <tbody>\n",
              "    <tr>\n",
              "      <th>0</th>\n",
              "      <td>2.097627</td>\n",
              "      <td>2.078524</td>\n",
              "      <td>0</td>\n",
              "    </tr>\n",
              "    <tr>\n",
              "      <th>1</th>\n",
              "      <td>2.430379</td>\n",
              "      <td>2.311096</td>\n",
              "      <td>0</td>\n",
              "    </tr>\n",
              "  </tbody>\n",
              "</table>\n",
              "</div>\n",
              "    <div class=\"colab-df-buttons\">\n",
              "\n",
              "  <div class=\"colab-df-container\">\n",
              "    <button class=\"colab-df-convert\" onclick=\"convertToInteractive('df-43d1f570-6c05-4f33-bf74-5cca4cce9004')\"\n",
              "            title=\"Convert this dataframe to an interactive table.\"\n",
              "            style=\"display:none;\">\n",
              "\n",
              "  <svg xmlns=\"http://www.w3.org/2000/svg\" height=\"24px\" viewBox=\"0 -960 960 960\">\n",
              "    <path d=\"M120-120v-720h720v720H120Zm60-500h600v-160H180v160Zm220 220h160v-160H400v160Zm0 220h160v-160H400v160ZM180-400h160v-160H180v160Zm440 0h160v-160H620v160ZM180-180h160v-160H180v160Zm440 0h160v-160H620v160Z\"/>\n",
              "  </svg>\n",
              "    </button>\n",
              "\n",
              "  <style>\n",
              "    .colab-df-container {\n",
              "      display:flex;\n",
              "      gap: 12px;\n",
              "    }\n",
              "\n",
              "    .colab-df-convert {\n",
              "      background-color: #E8F0FE;\n",
              "      border: none;\n",
              "      border-radius: 50%;\n",
              "      cursor: pointer;\n",
              "      display: none;\n",
              "      fill: #1967D2;\n",
              "      height: 32px;\n",
              "      padding: 0 0 0 0;\n",
              "      width: 32px;\n",
              "    }\n",
              "\n",
              "    .colab-df-convert:hover {\n",
              "      background-color: #E2EBFA;\n",
              "      box-shadow: 0px 1px 2px rgba(60, 64, 67, 0.3), 0px 1px 3px 1px rgba(60, 64, 67, 0.15);\n",
              "      fill: #174EA6;\n",
              "    }\n",
              "\n",
              "    .colab-df-buttons div {\n",
              "      margin-bottom: 4px;\n",
              "    }\n",
              "\n",
              "    [theme=dark] .colab-df-convert {\n",
              "      background-color: #3B4455;\n",
              "      fill: #D2E3FC;\n",
              "    }\n",
              "\n",
              "    [theme=dark] .colab-df-convert:hover {\n",
              "      background-color: #434B5C;\n",
              "      box-shadow: 0px 1px 3px 1px rgba(0, 0, 0, 0.15);\n",
              "      filter: drop-shadow(0px 1px 2px rgba(0, 0, 0, 0.3));\n",
              "      fill: #FFFFFF;\n",
              "    }\n",
              "  </style>\n",
              "\n",
              "    <script>\n",
              "      const buttonEl =\n",
              "        document.querySelector('#df-43d1f570-6c05-4f33-bf74-5cca4cce9004 button.colab-df-convert');\n",
              "      buttonEl.style.display =\n",
              "        google.colab.kernel.accessAllowed ? 'block' : 'none';\n",
              "\n",
              "      async function convertToInteractive(key) {\n",
              "        const element = document.querySelector('#df-43d1f570-6c05-4f33-bf74-5cca4cce9004');\n",
              "        const dataTable =\n",
              "          await google.colab.kernel.invokeFunction('convertToInteractive',\n",
              "                                                    [key], {});\n",
              "        if (!dataTable) return;\n",
              "\n",
              "        const docLinkHtml = 'Like what you see? Visit the ' +\n",
              "          '<a target=\"_blank\" href=https://colab.research.google.com/notebooks/data_table.ipynb>data table notebook</a>'\n",
              "          + ' to learn more about interactive tables.';\n",
              "        element.innerHTML = '';\n",
              "        dataTable['output_type'] = 'display_data';\n",
              "        await google.colab.output.renderOutput(dataTable, element);\n",
              "        const docLink = document.createElement('div');\n",
              "        docLink.innerHTML = docLinkHtml;\n",
              "        element.appendChild(docLink);\n",
              "      }\n",
              "    </script>\n",
              "  </div>\n",
              "\n",
              "\n",
              "<div id=\"df-6a74c471-246d-49a2-b580-f5346ffcf34a\">\n",
              "  <button class=\"colab-df-quickchart\" onclick=\"quickchart('df-6a74c471-246d-49a2-b580-f5346ffcf34a')\"\n",
              "            title=\"Suggest charts\"\n",
              "            style=\"display:none;\">\n",
              "\n",
              "<svg xmlns=\"http://www.w3.org/2000/svg\" height=\"24px\"viewBox=\"0 0 24 24\"\n",
              "     width=\"24px\">\n",
              "    <g>\n",
              "        <path d=\"M19 3H5c-1.1 0-2 .9-2 2v14c0 1.1.9 2 2 2h14c1.1 0 2-.9 2-2V5c0-1.1-.9-2-2-2zM9 17H7v-7h2v7zm4 0h-2V7h2v10zm4 0h-2v-4h2v4z\"/>\n",
              "    </g>\n",
              "</svg>\n",
              "  </button>\n",
              "\n",
              "<style>\n",
              "  .colab-df-quickchart {\n",
              "      --bg-color: #E8F0FE;\n",
              "      --fill-color: #1967D2;\n",
              "      --hover-bg-color: #E2EBFA;\n",
              "      --hover-fill-color: #174EA6;\n",
              "      --disabled-fill-color: #AAA;\n",
              "      --disabled-bg-color: #DDD;\n",
              "  }\n",
              "\n",
              "  [theme=dark] .colab-df-quickchart {\n",
              "      --bg-color: #3B4455;\n",
              "      --fill-color: #D2E3FC;\n",
              "      --hover-bg-color: #434B5C;\n",
              "      --hover-fill-color: #FFFFFF;\n",
              "      --disabled-bg-color: #3B4455;\n",
              "      --disabled-fill-color: #666;\n",
              "  }\n",
              "\n",
              "  .colab-df-quickchart {\n",
              "    background-color: var(--bg-color);\n",
              "    border: none;\n",
              "    border-radius: 50%;\n",
              "    cursor: pointer;\n",
              "    display: none;\n",
              "    fill: var(--fill-color);\n",
              "    height: 32px;\n",
              "    padding: 0;\n",
              "    width: 32px;\n",
              "  }\n",
              "\n",
              "  .colab-df-quickchart:hover {\n",
              "    background-color: var(--hover-bg-color);\n",
              "    box-shadow: 0 1px 2px rgba(60, 64, 67, 0.3), 0 1px 3px 1px rgba(60, 64, 67, 0.15);\n",
              "    fill: var(--button-hover-fill-color);\n",
              "  }\n",
              "\n",
              "  .colab-df-quickchart-complete:disabled,\n",
              "  .colab-df-quickchart-complete:disabled:hover {\n",
              "    background-color: var(--disabled-bg-color);\n",
              "    fill: var(--disabled-fill-color);\n",
              "    box-shadow: none;\n",
              "  }\n",
              "\n",
              "  .colab-df-spinner {\n",
              "    border: 2px solid var(--fill-color);\n",
              "    border-color: transparent;\n",
              "    border-bottom-color: var(--fill-color);\n",
              "    animation:\n",
              "      spin 1s steps(1) infinite;\n",
              "  }\n",
              "\n",
              "  @keyframes spin {\n",
              "    0% {\n",
              "      border-color: transparent;\n",
              "      border-bottom-color: var(--fill-color);\n",
              "      border-left-color: var(--fill-color);\n",
              "    }\n",
              "    20% {\n",
              "      border-color: transparent;\n",
              "      border-left-color: var(--fill-color);\n",
              "      border-top-color: var(--fill-color);\n",
              "    }\n",
              "    30% {\n",
              "      border-color: transparent;\n",
              "      border-left-color: var(--fill-color);\n",
              "      border-top-color: var(--fill-color);\n",
              "      border-right-color: var(--fill-color);\n",
              "    }\n",
              "    40% {\n",
              "      border-color: transparent;\n",
              "      border-right-color: var(--fill-color);\n",
              "      border-top-color: var(--fill-color);\n",
              "    }\n",
              "    60% {\n",
              "      border-color: transparent;\n",
              "      border-right-color: var(--fill-color);\n",
              "    }\n",
              "    80% {\n",
              "      border-color: transparent;\n",
              "      border-right-color: var(--fill-color);\n",
              "      border-bottom-color: var(--fill-color);\n",
              "    }\n",
              "    90% {\n",
              "      border-color: transparent;\n",
              "      border-bottom-color: var(--fill-color);\n",
              "    }\n",
              "  }\n",
              "</style>\n",
              "\n",
              "  <script>\n",
              "    async function quickchart(key) {\n",
              "      const quickchartButtonEl =\n",
              "        document.querySelector('#' + key + ' button');\n",
              "      quickchartButtonEl.disabled = true;  // To prevent multiple clicks.\n",
              "      quickchartButtonEl.classList.add('colab-df-spinner');\n",
              "      try {\n",
              "        const charts = await google.colab.kernel.invokeFunction(\n",
              "            'suggestCharts', [key], {});\n",
              "      } catch (error) {\n",
              "        console.error('Error during call to suggestCharts:', error);\n",
              "      }\n",
              "      quickchartButtonEl.classList.remove('colab-df-spinner');\n",
              "      quickchartButtonEl.classList.add('colab-df-quickchart-complete');\n",
              "    }\n",
              "    (() => {\n",
              "      let quickchartButtonEl =\n",
              "        document.querySelector('#df-6a74c471-246d-49a2-b580-f5346ffcf34a button');\n",
              "      quickchartButtonEl.style.display =\n",
              "        google.colab.kernel.accessAllowed ? 'block' : 'none';\n",
              "    })();\n",
              "  </script>\n",
              "</div>\n",
              "\n",
              "    </div>\n",
              "  </div>\n"
            ],
            "application/vnd.google.colaboratory.intrinsic+json": {
              "type": "dataframe",
              "variable_name": "data",
              "summary": "{\n  \"name\": \"data\",\n  \"rows\": 40,\n  \"fields\": [\n    {\n      \"column\": \"Feature_1\",\n      \"properties\": {\n        \"dtype\": \"number\",\n        \"std\": 0.5517329580496491,\n        \"min\": 1.0375796008727103,\n        \"max\": 2.957236684465528,\n        \"num_unique_values\": 40,\n        \"samples\": [\n          2.7400242964936385,\n          1.0404367948806514,\n          1.1742585994030814\n        ],\n        \"semantic_type\": \"\",\n        \"description\": \"\"\n      }\n    },\n    {\n      \"column\": \"Feature_2\",\n      \"properties\": {\n        \"dtype\": \"number\",\n        \"std\": 0.8529732452357293,\n        \"min\": 1.117563376762962,\n        \"max\": 3.9651215141776786,\n        \"num_unique_values\": 40,\n        \"samples\": [\n          1.7332767760048082,\n          2.9593249763961955,\n          1.4839285536549887\n        ],\n        \"semantic_type\": \"\",\n        \"description\": \"\"\n      }\n    },\n    {\n      \"column\": \"y\",\n      \"properties\": {\n        \"dtype\": \"number\",\n        \"std\": 0,\n        \"min\": 0,\n        \"max\": 1,\n        \"num_unique_values\": 2,\n        \"samples\": [\n          1,\n          0\n        ],\n        \"semantic_type\": \"\",\n        \"description\": \"\"\n      }\n    }\n  ]\n}"
            }
          },
          "metadata": {},
          "execution_count": 107
        }
      ]
    },
    {
      "cell_type": "code",
      "source": [
        "X = data[['Feature_1','Feature_2']]\n",
        "y = data['y']"
      ],
      "metadata": {
        "id": "SEeRxc-DpVdJ"
      },
      "execution_count": 108,
      "outputs": []
    },
    {
      "cell_type": "markdown",
      "source": [
        "Odds fomula:\n",
        "\n",
        "$\n",
        "\\text{Odds} = \\frac{p}{1 - p}\n",
        "$\n",
        "\n",
        "    \n",
        "Log Odds fomula:   \n",
        "$\n",
        " \\text{Log Odds} = \\log \\left( \\frac{p}{1 - p} \\right)\n",
        "$\n",
        "\n",
        "Linear Model fomula:   \n",
        "$\n",
        " \\text{Linear model} = β_0 + β_ix_i\n",
        "$\n",
        "\n"
      ],
      "metadata": {
        "id": "UF8tMwi3I185"
      }
    },
    {
      "cell_type": "markdown",
      "source": [
        "**Log Odds fomula with Linear Model fomula (let z = linear model)**\n",
        "\n",
        "Sigmoid Function:    \n",
        "$\n",
        " \\sigma(z) = \\frac{1}{1 + e^{-z}}\n",
        "$"
      ],
      "metadata": {
        "id": "PUZCV-0KqsHj"
      }
    },
    {
      "cell_type": "code",
      "source": [
        "def sigmoid(z):\n",
        "    return 1 / (1 + np.exp(-z))"
      ],
      "metadata": {
        "id": "7XHsBN73IH2T"
      },
      "execution_count": 94,
      "outputs": []
    },
    {
      "cell_type": "markdown",
      "source": [
        "\n",
        "Sigmoid Function with Maximum Likelihood Estimater\n",
        "\n",
        "\n",
        "$\n",
        "\\mathcal{L}(\\theta) = \\sum_{i=1}^{m} \\left[ y_i \\log(\\sigma_θ(z)) + (1 - y_i) \\log(1 - \\sigma_θ(z)) \\right]\n",
        "$\n",
        "\n",
        "Graident Descent with Gobal Maximum\n",
        "\n",
        "$\n",
        "\\frac{\\partial \\mathcal{L}}{\\partial \\theta_0} = \\sum_{i=1}^{m} \\left( y_i - \\sigma_θ(z) \\right)\n",
        "$\n",
        "\n",
        "\n",
        "\n",
        "$\n",
        "\\frac{\\partial \\mathcal{L}}{\\partial \\theta_xi} = \\sum_{i=1}^{m} \\left( y_i - \\sigma_θ(z) \\right) x_{ij}\n",
        "$\n",
        "\n",
        "\n",
        "\n"
      ],
      "metadata": {
        "id": "DM2ndm8RjJsn"
      }
    },
    {
      "cell_type": "code",
      "source": [
        "def calculate_gradient_log_likelihood(theta_0, theta_xi, X, y):\n",
        "    linear_model = theta_0 + np.dot(X, theta_xi)\n",
        "    predictions = sigmoid(linear_model)\n",
        "    errors = y - predictions\n",
        "    intercept_grad = np.sum(errors)\n",
        "    coeff_grad = np.dot(X.T, errors)\n",
        "    return intercept_grad, coeff_grad"
      ],
      "metadata": {
        "id": "dgwbKXu3eNbr"
      },
      "execution_count": 110,
      "outputs": []
    },
    {
      "cell_type": "markdown",
      "source": [
        "Loss Logistics Regression is Negative Log Likelihood     \n",
        "$\n",
        "\\mathcal{NL}(\\theta) = -\\sum_{i=1}^{m} \\left[ y_i \\log(\\sigma_θ(z)) + (1 - y_i) \\log(1 - \\sigma_θ(z)) \\right]\n",
        "$"
      ],
      "metadata": {
        "id": "kdPtTyi9MdQX"
      }
    },
    {
      "cell_type": "code",
      "source": [
        "def log_loss(theta_0, theta_xi, X, y):\n",
        "    linear_model = theta_0 + np.dot(X, theta_xi)\n",
        "    predictions = sigmoid(linear_model)\n",
        "    loss = -np.sum(y * np.log(predictions + 1e-15) + (1 - y) * np.log(1 - predictions + 1e-15))\n",
        "    return loss"
      ],
      "metadata": {
        "id": "KBbXEP2sMTDF"
      },
      "execution_count": 111,
      "outputs": []
    },
    {
      "cell_type": "markdown",
      "source": [
        "Gradient Descent update parameters   \n",
        "$\n",
        "\\theta_n += \\theta_c + \\alpha\\frac{\\partial \\mathcal{L}}{\\partial \\theta}\n",
        "$"
      ],
      "metadata": {
        "id": "D14hMZ5AF6BK"
      }
    },
    {
      "cell_type": "code",
      "source": [
        "# Initialize parameters\n",
        "theta_0 = np.zeros(1)  # Bata_0\n",
        "theta_xi = np.zeros(X.shape[1])  # Bata_1\n",
        "print(theta_0) #intercept\n",
        "print(theta_xi) #coeff\n",
        "learning_rate = 0.0001\n",
        "num_iterations = 50000"
      ],
      "metadata": {
        "colab": {
          "base_uri": "https://localhost:8080/"
        },
        "id": "kYWrCu2DN0Js",
        "outputId": "e37d730c-2a42-4623-f61e-f4f102078c20"
      },
      "execution_count": 124,
      "outputs": [
        {
          "output_type": "stream",
          "name": "stdout",
          "text": [
            "[0.]\n",
            "[0. 0.]\n"
          ]
        }
      ]
    },
    {
      "cell_type": "code",
      "source": [
        "for i in range(num_iterations):\n",
        "    intercept_grad, coeff_grad = calculate_gradient_log_likelihood(theta_0, theta_xi, X, y)\n",
        "    theta_0 += learning_rate * intercept_grad\n",
        "    theta_xi += learning_rate * coeff_grad\n",
        "    if i % 20000 == 0 or i == num_iterations - 1:\n",
        "        loss = log_loss(theta_0, theta_xi, X, y)\n",
        "        print(f\"Iteration {i}: Loss = {loss}\")\n",
        "print(\"Theta_0 (Intercept):\", theta_0)\n",
        "print(\"Theta_xi (Coefficients):\", theta_xi)"
      ],
      "metadata": {
        "colab": {
          "base_uri": "https://localhost:8080/"
        },
        "id": "aaY9E-VSJiOZ",
        "outputId": "83ccd15f-126d-498a-a52b-03ef04b8f0c5"
      },
      "execution_count": 125,
      "outputs": [
        {
          "output_type": "stream",
          "name": "stdout",
          "text": [
            "Iteration 0: Loss = 27.694617822402407\n",
            "Iteration 20000: Loss = 23.571151519430856\n",
            "Iteration 40000: Loss = 23.484462424021274\n",
            "Iteration 49999: Loss = 23.462631524674666\n",
            "Theta_0 (Intercept): [-1.3003134]\n",
            "Theta_xi (Coefficients): [-0.45574896  0.72949955]\n"
          ]
        }
      ]
    },
    {
      "cell_type": "markdown",
      "source": [
        "Logistics Regression in Sklearn"
      ],
      "metadata": {
        "id": "qHCk-mrgKcuu"
      }
    },
    {
      "cell_type": "code",
      "source": [
        "# Logistic Regression using sklearn\n",
        "log_reg = LogisticRegression(fit_intercept=True, solver='lbfgs', max_iter=10000)\n",
        "log_reg.fit(X, y)\n",
        "print(\"Intercept:\", log_reg.intercept_)\n",
        "print(\"Coefficients:\", log_reg.coef_)\n"
      ],
      "metadata": {
        "colab": {
          "base_uri": "https://localhost:8080/"
        },
        "id": "3zK1wfgjKCsF",
        "outputId": "3c7426a7-e935-460e-9776-4d5c8a94c419"
      },
      "execution_count": 113,
      "outputs": [
        {
          "output_type": "stream",
          "name": "stdout",
          "text": [
            "Intercept: [-1.71023705]\n",
            "Coefficients: [[-0.2415067   0.70582492]]\n"
          ]
        }
      ]
    },
    {
      "cell_type": "markdown",
      "source": [
        "Code Fast"
      ],
      "metadata": {
        "id": "RF-VJanRagEj"
      }
    },
    {
      "cell_type": "code",
      "source": [
        "import numpy as np\n",
        "import pandas as pd\n",
        "\n",
        "np.random.seed(0) #set random\n",
        "# Create DataFrame\n",
        "data = pd.DataFrame()\n",
        "data['Feature_1'] = np.random.random(40) * 2 + 1\n",
        "data['Feature_2'] = np.random.random(40) * 3 + 1\n",
        "data['y'] = np.random.choice([0, 1], size=40)\n",
        "data.head(2)\n",
        "\n",
        "X = data[['Feature_1', 'Feature_2']].values\n",
        "y = data['y'].values\n",
        "\n",
        "X = np.hstack((np.ones((X.shape[0], 1)), X))  # x0 = 1 Because intercept * x0\n",
        "\n",
        "def sigmoid(z):\n",
        "    return 1 / (1 + np.exp(-z))\n",
        "\n",
        "def calculate_gradient_log_likelihood(theta, X, y):\n",
        "    linear_model = X @ theta\n",
        "    predictions = sigmoid(linear_model)\n",
        "    errors = y - predictions\n",
        "    gradient = X.T @ errors / len(y)\n",
        "    return gradient\n",
        "\n",
        "def log_loss(theta, X, y):\n",
        "    linear_model = X @ theta\n",
        "    predictions = sigmoid(linear_model)\n",
        "    loss = -np.mean(y * np.log(predictions + 1e-15) + (1 - y) * np.log(1 - predictions + 1e-15))\n",
        "    return loss\n",
        "\n",
        "# Initialize parameters\n",
        "theta = np.zeros(X.shape[1])\n",
        "print(\"Initial theta:\", theta)\n",
        "\n",
        "learning_rate = 0.00001  # Increased learning rate\n",
        "num_iterations = 100000  # Reduced iterations\n",
        "\n",
        "for i in range(num_iterations):\n",
        "    gradient = calculate_gradient_log_likelihood(theta, X, y)\n",
        "    theta += learning_rate * gradient\n",
        "    if i %  10000 == 0 or i == num_iterations - 1:\n",
        "        loss = log_loss(theta, X, y)\n",
        "        print(f\"Iteration {i}: Loss = {loss}\")\n",
        "\n",
        "print(\"Final theta:\", theta)\n"
      ],
      "metadata": {
        "colab": {
          "base_uri": "https://localhost:8080/"
        },
        "id": "zH0_sm4yKhow",
        "outputId": "9c0ad1fd-feb6-4783-a5ac-0e8e8148490d"
      },
      "execution_count": 136,
      "outputs": [
        {
          "output_type": "stream",
          "name": "stdout",
          "text": [
            "Initial theta: [0. 0. 0.]\n",
            "Iteration 0: Loss = 0.6929510266799117\n",
            "Iteration 10000: Loss = 0.5975157784497125\n",
            "Iteration 20000: Loss = 0.5930873800069328\n",
            "Iteration 30000: Loss = 0.5920554569244227\n",
            "Iteration 40000: Loss = 0.5913517015324287\n",
            "Iteration 49999: Loss = 0.5907412745326868\n",
            "Final theta: [-0.57001399 -0.67131029  0.61715299]\n"
          ]
        }
      ]
    },
    {
      "cell_type": "code",
      "source": [],
      "metadata": {
        "id": "N4lpp_40ZkEh"
      },
      "execution_count": null,
      "outputs": []
    }
  ]
}